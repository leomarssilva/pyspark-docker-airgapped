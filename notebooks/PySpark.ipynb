{
 "cells": [
  {
   "cell_type": "markdown",
   "id": "dfc62a51",
   "metadata": {},
   "source": [
    "### Links\n",
    "\n",
    " - https://spark.apache.org/docs/latest/api/python/getting_started/index.html\n",
    " - https://sparkbyexamples.com/pyspark-tutorial/\n",
    " - https://www.datacamp.com/community/blog/pyspark-cheat-sheet-python\n",
    " - https://www.datacamp.com/community/blog/pyspark-sql-cheat-sheet\n",
    " - https://towardsdatascience.com/ultimate-pyspark-cheat-sheet-7d3938d13421"
   ]
  },
  {
   "cell_type": "code",
   "execution_count": 1,
   "id": "d51ad0a7",
   "metadata": {
    "scrolled": true
   },
   "outputs": [
    {
     "name": "stderr",
     "output_type": "stream",
     "text": [
      "21/08/27 17:52:04 WARN NativeCodeLoader: Unable to load native-hadoop library for your platform... using builtin-java classes where applicable\n",
      "Using Spark's default log4j profile: org/apache/spark/log4j-defaults.properties\n",
      "Setting default log level to \"WARN\".\n",
      "To adjust logging level use sc.setLogLevel(newLevel). For SparkR, use setLogLevel(newLevel).\n"
     ]
    }
   ],
   "source": [
    "from pyspark.sql import *\n",
    "from pyspark.sql.functions import *\n",
    "\n",
    "spark = SparkSession.builder.appName(\"test\").getOrCreate()"
   ]
  },
  {
   "cell_type": "code",
   "execution_count": 2,
   "id": "486d4dbe",
   "metadata": {},
   "outputs": [],
   "source": [
    "df = spark.read.option(\"header\",\"true\") \\\n",
    "    .option(\"inferSchema\",\"true\") \\\n",
    "    .csv(\"/notebooks/simple-dataset.csv\") \\\n",
    "    .withColumn(\"timestamp\", to_timestamp(col(\"ts\") / 1000))"
   ]
  },
  {
   "cell_type": "code",
   "execution_count": 3,
   "id": "891e8dce",
   "metadata": {},
   "outputs": [
    {
     "name": "stdout",
     "output_type": "stream",
     "text": [
      "+-------------------+---------+-----+---------+\n",
      "|end                |mnemonic1|lastv|avg_value|\n",
      "+-------------------+---------+-----+---------+\n",
      "|2021-08-20 03:01:00|alfa     |3    |2.0      |\n",
      "|2021-08-20 03:01:00|gama     |10   |12.5     |\n",
      "|2021-08-20 03:02:00|alfa     |3    |2.0      |\n",
      "|2021-08-20 03:02:00|gama     |10   |12.5     |\n",
      "|2021-08-20 03:03:00|alfa     |3    |2.0      |\n",
      "|2021-08-20 03:03:00|gama     |10   |12.5     |\n",
      "|2021-08-20 03:04:00|alfa     |3    |2.0      |\n",
      "|2021-08-20 03:04:00|gama     |10   |12.5     |\n",
      "|2021-08-20 03:05:00|alfa     |3    |2.0      |\n",
      "|2021-08-20 03:05:00|gama     |10   |12.5     |\n",
      "|2021-08-20 03:06:00|alfa     |2    |2.0      |\n",
      "|2021-08-20 03:06:00|gama     |15   |15.0     |\n",
      "|2021-08-20 03:07:00|alfa     |2    |2.0      |\n",
      "|2021-08-20 03:07:00|gama     |15   |15.0     |\n",
      "|2021-08-20 03:08:00|alfa     |2    |2.0      |\n",
      "|2021-08-20 03:08:00|gama     |15   |15.0     |\n",
      "|2021-08-20 03:09:00|alfa     |6    |4.0      |\n",
      "|2021-08-20 03:09:00|gama     |15   |15.0     |\n",
      "|2021-08-20 03:10:00|alfa     |6    |4.0      |\n",
      "|2021-08-20 03:10:00|gama     |15   |15.0     |\n",
      "+-------------------+---------+-----+---------+\n",
      "only showing top 20 rows\n",
      "\n"
     ]
    },
    {
     "name": "stderr",
     "output_type": "stream",
     "text": [
      "\r\n",
      "[Stage 3:======================================>                (140 + 5) / 200]\r\n",
      "\r\n",
      "                                                                                \r"
     ]
    }
   ],
   "source": [
    "df.groupBy(window(col(\"timestamp\"), \"5 minutes\", \"1 minute\"), col(\"item1\")) \\\n",
    "    .agg(last(\"value1\").alias(\"lastv\"), avg(\"value1\").alias(\"avg_value\")) \\\n",
    "    .orderBy(\"window.end\", \"item1\") \\\n",
    "    .select(\"window.end\", \"item1\", \"lastv\", \"avg_value\") \\\n",
    "    .show(truncate=False)"
   ]
  },
  {
   "cell_type": "code",
   "execution_count": null,
   "id": "ba2ab2e4",
   "metadata": {},
   "outputs": [],
   "source": []
  }
 ],
 "metadata": {
  "kernelspec": {
   "display_name": "Python 3 (ipykernel)",
   "language": "python",
   "name": "python3"
  },
  "language_info": {
   "codemirror_mode": {
    "name": "ipython",
    "version": 3
   },
   "file_extension": ".py",
   "mimetype": "text/x-python",
   "name": "python",
   "nbconvert_exporter": "python",
   "pygments_lexer": "ipython3",
   "version": "3.8.10"
  }
 },
 "nbformat": 4,
 "nbformat_minor": 5
}
